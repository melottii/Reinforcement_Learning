{
 "cells": [
  {
   "cell_type": "markdown",
   "metadata": {
    "id": "hyyN-2qyK_T2"
   },
   "source": [
    "# Stable Baselines3 - Car Racing"
   ]
  },
  {
   "cell_type": "code",
   "execution_count": 4,
   "metadata": {
    "id": "gWskDE2c9WoN",
    "colab": {
     "base_uri": "https://localhost:8080/"
    },
    "outputId": "529e140f-aa99-4fe9-95b4-27a1759350f0",
    "ExecuteTime": {
     "end_time": "2023-12-07T12:52:34.804063100Z",
     "start_time": "2023-12-07T12:52:32.217798500Z"
    }
   },
   "outputs": [
    {
     "name": "stdout",
     "output_type": "stream",
     "text": [
      "/bin/bash: warning: setlocale: LC_ALL: cannot change locale (en_US.UTF-8)\r\n",
      "E: Could not open lock file /var/lib/dpkg/lock-frontend - open (13: Permission denied)\r\n",
      "E: Unable to acquire the dpkg frontend lock (/var/lib/dpkg/lock-frontend), are you root?\r\n",
      "/bin/bash: warning: setlocale: LC_ALL: cannot change locale (en_US.UTF-8)\r\n",
      "/bin/bash: warning: setlocale: LC_ALL: cannot change locale (en_US.UTF-8)\r\n"
     ]
    }
   ],
   "source": [
    "# !apt-get update -qq && apt-get install swig cmake -qq\n",
    "!apt-get install swig\n",
    "!pip install box2d-py -q\n",
    "!pip install -q \"stable-baselines3[extra]\""
   ]
  },
  {
   "cell_type": "markdown",
   "metadata": {
    "id": "FtY8FhliLsGm"
   },
   "source": [
    "## Importações"
   ]
  },
  {
   "cell_type": "code",
   "execution_count": 5,
   "metadata": {
    "id": "BIedd7Pz9sOs",
    "colab": {
     "base_uri": "https://localhost:8080/"
    },
    "outputId": "98f248a4-a2ef-4ad2-8d0c-0723e3c065d7",
    "ExecuteTime": {
     "end_time": "2023-12-07T12:52:46.028634200Z",
     "start_time": "2023-12-07T12:52:43.843386700Z"
    }
   },
   "outputs": [],
   "source": [
    "import gymnasium as gym\n",
    "import numpy as np\n",
    "import pandas as pd\n",
    "import numpy as np\n",
    "\n",
    "from stable_baselines3.common.vec_env import DummyVecEnv"
   ]
  },
  {
   "cell_type": "markdown",
   "metadata": {
    "id": "fwxW3aH8wYnA"
   },
   "source": [
    "### Importando Algoritmo e Política"
   ]
  },
  {
   "cell_type": "code",
   "execution_count": 6,
   "metadata": {
    "colab": {
     "base_uri": "https://localhost:8080/"
    },
    "id": "JcZxjjHUwYnA",
    "outputId": "f328b2f7-7b6d-4f61-f6ef-172a388dc0df",
    "ExecuteTime": {
     "end_time": "2023-12-07T12:52:46.071192400Z",
     "start_time": "2023-12-07T12:52:46.030672500Z"
    }
   },
   "outputs": [],
   "source": [
    "from stable_baselines3 import PPO"
   ]
  },
  {
   "cell_type": "markdown",
   "metadata": {
    "id": "9lPWlgrswYnA"
   },
   "source": [
    "#### Função Auxiliar"
   ]
  },
  {
   "cell_type": "code",
   "execution_count": 7,
   "metadata": {
    "id": "MVKtj5wbwYnB",
    "ExecuteTime": {
     "end_time": "2023-12-07T12:52:49.428499Z",
     "start_time": "2023-12-07T12:52:49.375502300Z"
    }
   },
   "outputs": [],
   "source": [
    "def evaluate(model, num_episodes=10, deterministic=True, qi=0):\n",
    "    \"\"\"\n",
    "    Evaluate a RL agent\n",
    "    :param model: (BaseRLModel object) the RL Agent\n",
    "    :param num_episodes: (int) number of episodes to evaluate it\n",
    "    :return: (float) Mean reward for the last num_episodes\n",
    "    \"\"\"\n",
    "    # This function will only work for a single Environment\n",
    "    vec_env = model.get_env()\n",
    "    all_episode_rewards = []\n",
    "    for i in range(num_episodes):\n",
    "        episode_rewards = []\n",
    "        done = False\n",
    "        obs = vec_env.reset()\n",
    "        while not done:\n",
    "            # _states are only useful when using LSTM policies\n",
    "            action, _states = model.predict(obs, deterministic=deterministic)\n",
    "            # here, action, rewards and dones are arrays\n",
    "            # because we are using vectorized env\n",
    "            # also note that the step only returns a 4-tuple, as the env that is returned\n",
    "            # by model.get_env() is an sb3 vecenv that wraps the >v0.26 API\n",
    "\n",
    "            #obs, reward, done, info = vec_env.step(action)\n",
    "            obs, reward, done, info = vec_env.step(action)\n",
    "\n",
    "            episode_rewards.append(reward)\n",
    "\n",
    "            #done = terminated or truncated\n",
    "\n",
    "\n",
    "        all_episode_rewards.append(sum(episode_rewards))\n",
    "        df_treinos.loc[qi][i + 1] = sum(episode_rewards)[0]\n",
    "\n",
    "    mean_episode_reward = np.mean(all_episode_rewards)\n",
    "    print(\"Mean reward:\", mean_episode_reward, \"Num episodes:\", num_episodes)\n",
    "\n",
    "    return mean_episode_reward"
   ]
  },
  {
   "cell_type": "markdown",
   "metadata": {
    "id": "4efFdrQ7MBvl"
   },
   "source": [
    "### Método de avaliação do Stable Baselines"
   ]
  },
  {
   "cell_type": "code",
   "execution_count": 8,
   "metadata": {
    "id": "PeaVBGuJwK97",
    "ExecuteTime": {
     "end_time": "2023-12-07T12:52:50.486181500Z",
     "start_time": "2023-12-07T12:52:50.477180500Z"
    }
   },
   "outputs": [],
   "source": [
    "from stable_baselines3.common.evaluation import evaluate_policy"
   ]
  },
  {
   "cell_type": "markdown",
   "metadata": {
    "id": "YTWrCEZOwYnB"
   },
   "source": [
    "### Criando Ambiente"
   ]
  },
  {
   "cell_type": "code",
   "execution_count": 9,
   "metadata": {
    "id": "rZ-GW4gSCNaU",
    "ExecuteTime": {
     "end_time": "2023-12-07T12:52:51.998394500Z",
     "start_time": "2023-12-07T12:52:51.704924700Z"
    }
   },
   "outputs": [],
   "source": [
    "# render_mode=\"human\" Se usar visualização na avaliação\n",
    "env = gym.make(\"CarRacing-v2\", continuous=False)\n",
    "env = DummyVecEnv([lambda: env])"
   ]
  },
  {
   "cell_type": "code",
   "execution_count": 10,
   "metadata": {
    "colab": {
     "base_uri": "https://localhost:8080/"
    },
    "id": "8L4Q863nHMX4",
    "outputId": "07c86e2b-22ac-4ba0-8c09-ffab003ce956",
    "ExecuteTime": {
     "end_time": "2023-12-07T12:52:53.199168100Z",
     "start_time": "2023-12-07T12:52:53.189158200Z"
    }
   },
   "outputs": [
    {
     "data": {
      "text/plain": "Box(0, 255, (96, 96, 3), uint8)"
     },
     "execution_count": 10,
     "metadata": {},
     "output_type": "execute_result"
    }
   ],
   "source": [
    "# Espaço de observação\n",
    "env.observation_space"
   ]
  },
  {
   "cell_type": "code",
   "execution_count": 11,
   "metadata": {
    "colab": {
     "base_uri": "https://localhost:8080/"
    },
    "id": "DXInF060GnXc",
    "outputId": "4f75e8c8-7e0c-4336-b8cb-1d9d4b808efb",
    "ExecuteTime": {
     "end_time": "2023-12-07T12:52:54.589221900Z",
     "start_time": "2023-12-07T12:52:54.580227500Z"
    }
   },
   "outputs": [
    {
     "data": {
      "text/plain": "Discrete(5)"
     },
     "execution_count": 11,
     "metadata": {},
     "output_type": "execute_result"
    }
   ],
   "source": [
    "# Espaço de ações\n",
    "env.action_space"
   ]
  },
  {
   "cell_type": "markdown",
   "metadata": {
    "id": "zjEVOIY8NVeK"
   },
   "source": [
    "### Avaliando agente não treinado"
   ]
  },
  {
   "cell_type": "code",
   "execution_count": 13,
   "metadata": {
    "colab": {
     "base_uri": "https://localhost:8080/"
    },
    "id": "xDHLMA6NFk95",
    "outputId": "9f58e11f-3dfb-4a76-f610-79f436098b3f",
    "ExecuteTime": {
     "end_time": "2023-12-07T12:57:25.313926Z",
     "start_time": "2023-12-07T12:55:23.526643300Z"
    }
   },
   "outputs": [
    {
     "name": "stdout",
     "output_type": "stream",
     "text": [
      "mean_reward=-93.02 +/- 0.4213733267964002\n"
     ]
    }
   ],
   "source": [
    "# Separate env for evaluation\n",
    "eval_env = gym.make(\"CarRacing-v2\", continuous=False)\n",
    "model = PPO(\"CnnPolicy\", env)\n",
    "\n",
    "# Random Agent, before training\n",
    "mean_reward, std_reward = evaluate_policy(\n",
    "    model,\n",
    "    eval_env,\n",
    "    n_eval_episodes=10,\n",
    "    deterministic=True,\n",
    ")\n",
    "\n",
    "print(f\"mean_reward={mean_reward:.2f} +/- {std_reward}\")"
   ]
  },
  {
   "cell_type": "markdown",
   "metadata": {
    "id": "r5UoXTZPNdFE"
   },
   "source": [
    "## Treina o agente"
   ]
  },
  {
   "cell_type": "markdown",
   "metadata": {
    "id": "SWCcXpDewYnC"
   },
   "source": [
    "### Inicialização"
   ]
  },
  {
   "cell_type": "code",
   "execution_count": 14,
   "metadata": {
    "id": "Ns-wchZmwYnC",
    "ExecuteTime": {
     "end_time": "2023-12-07T12:57:25.315205100Z",
     "start_time": "2023-12-07T12:57:25.308444900Z"
    }
   },
   "outputs": [],
   "source": [
    "# Define quantidade de treinamentos do agente\n",
    "quantidades = [2e4, 5e4, 1e5, 2e5, 4e5]\n",
    "qtd_teste = 10"
   ]
  },
  {
   "cell_type": "code",
   "execution_count": 15,
   "metadata": {
    "id": "YnaVjD86wYnC",
    "ExecuteTime": {
     "end_time": "2023-12-07T12:57:25.329094500Z",
     "start_time": "2023-12-07T12:57:25.310510300Z"
    }
   },
   "outputs": [],
   "source": [
    "df_treinos = pd.DataFrame(index=quantidades, columns=np.arange(1, qtd_teste + 1))"
   ]
  },
  {
   "cell_type": "markdown",
   "metadata": {
    "id": "N0TA00niwYnC"
   },
   "source": [
    "### Execução"
   ]
  },
  {
   "cell_type": "code",
   "execution_count": null,
   "metadata": {
    "id": "e4cfSXIB-pTF",
    "is_executing": true,
    "ExecuteTime": {
     "start_time": "2023-12-07T13:10:19.053101900Z"
    }
   },
   "outputs": [
    {
     "name": "stdout",
     "output_type": "stream",
     "text": [
      "20000.0\n",
      "Mean reward: -24.9728 Num episodes: 10\n",
      "\n",
      "50000.0\n",
      "Mean reward: 462.34772 Num episodes: 10\n",
      "\n",
      "100000.0\n",
      "Mean reward: -30.031702 Num episodes: 10\n",
      "\n",
      "200000.0\n",
      "Mean reward: 866.6138 Num episodes: 10\n",
      "\n",
      "400000.0\n"
     ]
    }
   ],
   "source": [
    "\n",
    "\n",
    "for qtd in quantidades:\n",
    "    print(qtd)\n",
    "    # Algoritmo + Politica\n",
    "    model = PPO(\"CnnPolicy\", env)\n",
    "\n",
    "    # Treina agente\n",
    "    model.learn(total_timesteps=qtd)\n",
    "\n",
    "    # Salva modelo\n",
    "    model.save(f\"./{qtd}k_car_racing_PPO\")\n",
    "\n",
    "    # Carrega modelo\n",
    "    #model = PPO.load(f\"./{qtd}k_car_racing_PPO\", env)\n",
    "\n",
    "    # Avalia modelo\n",
    "    evaluate(model, num_episodes=qtd_teste, qi=qtd)\n",
    "\n",
    "\n",
    "    # Deleta modelo\n",
    "    del model\n",
    "\n",
    "    # Reseta Ambiente\n",
    "    env.reset()\n",
    "    print()\n",
    "\n"
   ]
  },
  {
   "cell_type": "code",
   "execution_count": null,
   "metadata": {
    "id": "KUAqO-v1wYnD",
    "ExecuteTime": {
     "start_time": "2023-12-07T13:10:05.895415900Z"
    }
   },
   "outputs": [],
   "source": [
    "#model.save(\"./200k_car_racing_PPO\")\n",
    "#model = PPO.load(f\"./{numer}k_car_racing_PPO\", env)"
   ]
  },
  {
   "cell_type": "markdown",
   "metadata": {
    "id": "T31dZJYNrJwF"
   },
   "source": [
    "## Avalia o agente treinado"
   ]
  },
  {
   "cell_type": "markdown",
   "metadata": {
    "id": "vDVFVtbLwYnD"
   },
   "source": [
    "### Avaliação com visualização (jupyter notebook)"
   ]
  },
  {
   "cell_type": "code",
   "execution_count": null,
   "metadata": {
    "id": "ygl_gVmV_QP7",
    "ExecuteTime": {
     "start_time": "2023-12-07T13:10:05.899950100Z"
    }
   },
   "outputs": [],
   "source": [
    "env = gym.make(\"CarRacing-v2\", continuous=False, render_mode=\"human\")\n",
    "env = DummyVecEnv([lambda: env])\n",
    "model = PPO.load(f\"./{4e5}k_car_racing_PPO\", env)\n",
    "mean_reward, std_reward = evaluate_policy(model, env, n_eval_episodes=3, render=True)\n",
    "print(f\"mean_reward={mean_reward:.2f} +/- {std_reward}\")"
   ]
  },
  {
   "cell_type": "code",
   "execution_count": null,
   "metadata": {
    "id": "yogMngROwYnD",
    "ExecuteTime": {
     "start_time": "2023-12-07T13:10:05.903469700Z"
    }
   },
   "outputs": [],
   "source": [
    "env.close()"
   ]
  },
  {
   "cell_type": "markdown",
   "metadata": {
    "id": "oIEqNGcuwYnD"
   },
   "source": [
    "#### Resultado"
   ]
  },
  {
   "cell_type": "code",
   "execution_count": null,
   "metadata": {
    "id": "lwRSM6YzwYnD",
    "ExecuteTime": {
     "end_time": "2023-12-07T13:10:05.928519400Z",
     "start_time": "2023-12-07T13:10:05.915527800Z"
    }
   },
   "outputs": [],
   "source": [
    "df_treinos"
   ]
  },
  {
   "cell_type": "code",
   "execution_count": null,
   "metadata": {
    "id": "GIR2Kdz1wYnD",
    "ExecuteTime": {
     "start_time": "2023-12-07T13:10:05.918064600Z"
    }
   },
   "outputs": [],
   "source": [
    "df_treinos.T.astype(float).describe()"
   ]
  },
  {
   "cell_type": "markdown",
   "metadata": {
    "id": "xVm9QPNVwKXN"
   },
   "source": [
    "### Prepare video recording"
   ]
  },
  {
   "cell_type": "code",
   "execution_count": null,
   "metadata": {
    "id": "MPyfQxD5z26J",
    "ExecuteTime": {
     "start_time": "2023-12-07T13:10:05.922596700Z"
    }
   },
   "outputs": [],
   "source": [
    "# Set up fake display; otherwise rendering will fail\n",
    "import os\n",
    "os.system(\"Xvfb :1 -screen 0 1024x768x24 &\")\n",
    "os.environ['DISPLAY'] = ':1'"
   ]
  },
  {
   "cell_type": "code",
   "execution_count": null,
   "metadata": {
    "id": "SLzXxO8VMD6N",
    "ExecuteTime": {
     "start_time": "2023-12-07T13:10:05.923597500Z"
    }
   },
   "outputs": [],
   "source": [
    "import base64\n",
    "from pathlib import Path\n",
    "\n",
    "from IPython import display as ipythondisplay\n",
    "\n",
    "\n",
    "def show_videos(video_path=\"\", prefix=\"\"):\n",
    "    \"\"\"\n",
    "    Taken from https://github.com/eleurent/highway-env\n",
    "\n",
    "    :param video_path: (str) Path to the folder containing videos\n",
    "    :param prefix: (str) Filter the video, showing only the only starting with this prefix\n",
    "    \"\"\"\n",
    "    html = []\n",
    "    for mp4 in Path(video_path).glob(\"{}*.mp4\".format(prefix)):\n",
    "        video_b64 = base64.b64encode(mp4.read_bytes())\n",
    "        html.append(\n",
    "            \"\"\"<video alt=\"{}\" autoplay\n",
    "                    loop controls style=\"height: 400px;\">\n",
    "                    <source src=\"data:video/mp4;base64,{}\" type=\"video/mp4\" />\n",
    "                </video>\"\"\".format(\n",
    "                mp4, video_b64.decode(\"ascii\")\n",
    "            )\n",
    "        )\n",
    "    ipythondisplay.display(ipythondisplay.HTML(data=\"<br>\".join(html)))"
   ]
  },
  {
   "cell_type": "markdown",
   "metadata": {
    "id": "LTRNUfulOGaF"
   },
   "source": [
    "We will record a video using the [VecVideoRecorder](https://stable-baselines.readthedocs.io/en/master/guide/vec_envs.html#vecvideorecorder) wrapper, you will learn about those wrapper in the next notebook."
   ]
  },
  {
   "cell_type": "code",
   "execution_count": null,
   "metadata": {
    "id": "Trag9dQpOIhx",
    "ExecuteTime": {
     "start_time": "2023-12-07T13:10:05.927125900Z"
    }
   },
   "outputs": [],
   "source": [
    "from stable_baselines3.common.vec_env import VecVideoRecorder, DummyVecEnv\n",
    "\n",
    "\n",
    "def record_video(env_id, model, video_length=500, prefix=\"\", video_folder=\"videos/\"):\n",
    "    \"\"\"\n",
    "    :param env_id: (str)\n",
    "    :param model: (RL model)\n",
    "    :param video_length: (int)\n",
    "    :param prefix: (str)\n",
    "    :param video_folder: (str)\n",
    "    \"\"\"\n",
    "    eval_env = DummyVecEnv([lambda: gym.make(\"CarRacing-v2\", render_mode=\"rgb_array\", continuous=False)])\n",
    "    # Start the video at step=0 and record 500 steps\n",
    "    eval_env = VecVideoRecorder(\n",
    "        eval_env,\n",
    "        video_folder=video_folder,\n",
    "        record_video_trigger=lambda step: step == 0,\n",
    "        video_length=video_length,\n",
    "        name_prefix=prefix,\n",
    "    )\n",
    "\n",
    "    obs = eval_env.reset()\n",
    "    for _ in range(video_length):\n",
    "        action, _ = model.predict(obs)\n",
    "        obs, _, _, _ = eval_env.step(action)\n",
    "\n",
    "    # Close the video recorder\n",
    "    eval_env.close()"
   ]
  },
  {
   "cell_type": "markdown",
   "metadata": {
    "id": "KOObbeu5MMlR"
   },
   "source": [
    "### Visualize trained agent\n",
    "\n"
   ]
  },
  {
   "cell_type": "code",
   "execution_count": null,
   "metadata": {
    "id": "iATu7AiyMQW2",
    "ExecuteTime": {
     "start_time": "2023-12-07T13:10:05.928519400Z"
    }
   },
   "outputs": [],
   "source": [
    "#record_video(\"CarRacing-v2\", model, video_length=500, prefix=\"ppo-car-racing\")"
   ]
  },
  {
   "cell_type": "markdown",
   "source": [
    "### Inicializar modelo salvo e grava video"
   ],
   "metadata": {
    "id": "l9Zo3ZgS0LeY"
   }
  },
  {
   "cell_type": "code",
   "source": [
    "for qtd in quantidades:\n",
    "    model = PPO.load(f\"{qtd}k_car_racing_PPO\", env)\n",
    "    record_video(f\"{qtd}k_car_racing_PPO\", model, video_length=500, prefix=f\"ppo-{qtd}k_car_racing_PPO\")"
   ],
   "metadata": {
    "id": "AqhlMS6z0K03",
    "ExecuteTime": {
     "end_time": "2023-12-07T13:10:05.933534Z",
     "start_time": "2023-12-07T13:10:05.932534100Z"
    }
   },
   "execution_count": null,
   "outputs": []
  },
  {
   "cell_type": "code",
   "execution_count": null,
   "metadata": {
    "id": "-n4i-fW3NojZ",
    "ExecuteTime": {
     "end_time": "2023-12-07T13:10:06.107226600Z",
     "start_time": "2023-12-07T13:10:05.937040600Z"
    }
   },
   "outputs": [],
   "source": [
    "show_videos(\"videos\", prefix=\"ppo\")"
   ]
  },
  {
   "cell_type": "code",
   "execution_count": null,
   "metadata": {
    "id": "vl4qduZAkN1t",
    "ExecuteTime": {
     "start_time": "2023-12-05T12:42:53.442455300Z"
    }
   },
   "outputs": [],
   "source": []
  }
 ],
 "metadata": {
  "accelerator": "GPU",
  "colab": {
   "provenance": [],
   "collapsed_sections": [
    "xVm9QPNVwKXN"
   ]
  },
  "kernelspec": {
   "display_name": "Python 3 (ipykernel)",
   "language": "python",
   "name": "python3"
  },
  "language_info": {
   "codemirror_mode": {
    "name": "ipython",
    "version": 3
   },
   "file_extension": ".py",
   "mimetype": "text/x-python",
   "name": "python",
   "nbconvert_exporter": "python",
   "pygments_lexer": "ipython3",
   "version": "3.10.9"
  },
  "vscode": {
   "interpreter": {
    "hash": "3201c96db5836b171d01fee72ea1be894646622d4b41771abf25c98b548a611d"
   }
  }
 },
 "nbformat": 4,
 "nbformat_minor": 0
}
