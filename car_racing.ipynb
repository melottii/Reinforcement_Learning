{
 "cells": [
  {
   "cell_type": "markdown",
   "metadata": {
    "id": "hyyN-2qyK_T2"
   },
   "source": [
    "# Stable Baselines3 - Car Racing"
   ]
  },
  {
   "cell_type": "code",
   "execution_count": 1,
   "metadata": {
    "id": "gWskDE2c9WoN",
    "colab": {
     "base_uri": "https://localhost:8080/"
    },
    "outputId": "529e140f-aa99-4fe9-95b4-27a1759350f0",
    "ExecuteTime": {
     "end_time": "2023-12-09T16:01:26.518683900Z",
     "start_time": "2023-12-09T16:01:03.539707400Z"
    }
   },
   "outputs": [
    {
     "name": "stdout",
     "output_type": "stream",
     "text": [
      "/bin/bash: warning: setlocale: LC_ALL: cannot change locale (en_US.UTF-8)\r\n",
      "Defaulting to user installation because normal site-packages is not writeable\r\n",
      "Requirement already satisfied: python-dateutil in /home/melot/.local/lib/python3.10/site-packages (2.8.2)\r\n",
      "Requirement already satisfied: six>=1.5 in /home/melot/.local/lib/python3.10/site-packages (from python-dateutil) (1.16.0)\r\n",
      "/bin/bash: warning: setlocale: LC_ALL: cannot change locale (en_US.UTF-8)\r\n",
      "Defaulting to user installation because normal site-packages is not writeable\r\n",
      "Requirement already satisfied: pyyaml in /home/melot/.local/lib/python3.10/site-packages (6.0.1)\r\n",
      "/bin/bash: warning: setlocale: LC_ALL: cannot change locale (en_US.UTF-8)\r\n",
      "Defaulting to user installation because normal site-packages is not writeable\r\n",
      "Requirement already satisfied: packaging in /home/melot/.local/lib/python3.10/site-packages (23.2)\r\n",
      "/bin/bash: warning: setlocale: LC_ALL: cannot change locale (en_US.UTF-8)\r\n",
      "Defaulting to user installation because normal site-packages is not writeable\r\n",
      "Requirement already satisfied: ipython-genutils in /home/melot/.local/lib/python3.10/site-packages (0.2.0)\r\n",
      "/bin/bash: warning: setlocale: LC_ALL: cannot change locale (en_US.UTF-8)\r\n",
      "Defaulting to user installation because normal site-packages is not writeable\r\n",
      "Requirement already satisfied: jinja2 in /home/melot/.local/lib/python3.10/site-packages (3.1.2)\r\n",
      "Requirement already satisfied: MarkupSafe>=2.0 in /home/melot/.local/lib/python3.10/site-packages (from jinja2) (2.1.3)\r\n",
      "/bin/bash: warning: setlocale: LC_ALL: cannot change locale (en_US.UTF-8)\r\n",
      "Defaulting to user installation because normal site-packages is not writeable\r\n",
      "Requirement already satisfied: requests in /home/melot/.local/lib/python3.10/site-packages (2.31.0)\r\n",
      "Requirement already satisfied: charset-normalizer<4,>=2 in /home/melot/.local/lib/python3.10/site-packages (from requests) (3.3.2)\r\n",
      "Requirement already satisfied: urllib3<3,>=1.21.1 in /home/melot/.local/lib/python3.10/site-packages (from requests) (2.0.4)\r\n",
      "Requirement already satisfied: certifi>=2017.4.17 in /home/melot/.local/lib/python3.10/site-packages (from requests) (2023.11.17)\r\n",
      "Requirement already satisfied: idna<4,>=2.5 in /home/melot/.local/lib/python3.10/site-packages (from requests) (3.6)\r\n",
      "/bin/bash: warning: setlocale: LC_ALL: cannot change locale (en_US.UTF-8)\r\n",
      "Defaulting to user installation because normal site-packages is not writeable\r\n",
      "Requirement already satisfied: jinja2 in /home/melot/.local/lib/python3.10/site-packages (3.1.2)\r\n",
      "Requirement already satisfied: MarkupSafe>=2.0 in /home/melot/.local/lib/python3.10/site-packages (from jinja2) (2.1.3)\r\n",
      "/bin/bash: warning: setlocale: LC_ALL: cannot change locale (en_US.UTF-8)\r\n",
      "Defaulting to user installation because normal site-packages is not writeable\r\n",
      "Requirement already satisfied: markupsafe in /home/melot/.local/lib/python3.10/site-packages (2.1.3)\r\n",
      "/bin/bash: warning: setlocale: LC_ALL: cannot change locale (en_US.UTF-8)\r\n",
      "Defaulting to user installation because normal site-packages is not writeable\r\n",
      "Requirement already satisfied: requests in /home/melot/.local/lib/python3.10/site-packages (2.31.0)\r\n",
      "Requirement already satisfied: idna<4,>=2.5 in /home/melot/.local/lib/python3.10/site-packages (from requests) (3.6)\r\n",
      "Requirement already satisfied: charset-normalizer<4,>=2 in /home/melot/.local/lib/python3.10/site-packages (from requests) (3.3.2)\r\n",
      "Requirement already satisfied: urllib3<3,>=1.21.1 in /home/melot/.local/lib/python3.10/site-packages (from requests) (2.0.4)\r\n",
      "Requirement already satisfied: certifi>=2017.4.17 in /home/melot/.local/lib/python3.10/site-packages (from requests) (2023.11.17)\r\n",
      "/bin/bash: warning: setlocale: LC_ALL: cannot change locale (en_US.UTF-8)\r\n",
      "Defaulting to user installation because normal site-packages is not writeable\r\n",
      "Requirement already satisfied: moviepy in /home/melot/.local/lib/python3.10/site-packages (1.0.3)\r\n",
      "Requirement already satisfied: requests<3.0,>=2.8.1 in /home/melot/.local/lib/python3.10/site-packages (from moviepy) (2.31.0)\r\n",
      "Requirement already satisfied: numpy>=1.17.3 in /home/melot/.local/lib/python3.10/site-packages (from moviepy) (1.26.2)\r\n",
      "Requirement already satisfied: imageio-ffmpeg>=0.2.0 in /home/melot/.local/lib/python3.10/site-packages (from moviepy) (0.4.9)\r\n",
      "Requirement already satisfied: decorator<5.0,>=4.0.2 in /home/melot/.local/lib/python3.10/site-packages (from moviepy) (4.4.2)\r\n",
      "Requirement already satisfied: tqdm<5.0,>=4.11.2 in /home/melot/.local/lib/python3.10/site-packages (from moviepy) (4.66.1)\r\n",
      "Requirement already satisfied: imageio<3.0,>=2.5 in /home/melot/.local/lib/python3.10/site-packages (from moviepy) (2.33.0)\r\n",
      "Requirement already satisfied: proglog<=1.0.0 in /home/melot/.local/lib/python3.10/site-packages (from moviepy) (0.1.10)\r\n",
      "Requirement already satisfied: pillow>=8.3.2 in /home/melot/.local/lib/python3.10/site-packages (from imageio<3.0,>=2.5->moviepy) (10.1.0)\r\n",
      "Requirement already satisfied: setuptools in /usr/lib/python3/dist-packages (from imageio-ffmpeg>=0.2.0->moviepy) (59.6.0)\r\n",
      "Requirement already satisfied: certifi>=2017.4.17 in /home/melot/.local/lib/python3.10/site-packages (from requests<3.0,>=2.8.1->moviepy) (2023.11.17)\r\n",
      "Requirement already satisfied: idna<4,>=2.5 in /home/melot/.local/lib/python3.10/site-packages (from requests<3.0,>=2.8.1->moviepy) (3.6)\r\n",
      "Requirement already satisfied: charset-normalizer<4,>=2 in /home/melot/.local/lib/python3.10/site-packages (from requests<3.0,>=2.8.1->moviepy) (3.3.2)\r\n",
      "Requirement already satisfied: urllib3<3,>=1.21.1 in /home/melot/.local/lib/python3.10/site-packages (from requests<3.0,>=2.8.1->moviepy) (2.0.4)\r\n",
      "/bin/bash: warning: setlocale: LC_ALL: cannot change locale (en_US.UTF-8)\r\n",
      "E: Could not open lock file /var/lib/dpkg/lock-frontend - open (13: Permission denied)\r\n",
      "E: Unable to acquire the dpkg frontend lock (/var/lib/dpkg/lock-frontend), are you root?\r\n",
      "/bin/bash: warning: setlocale: LC_ALL: cannot change locale (en_US.UTF-8)\r\n",
      "/bin/bash: warning: setlocale: LC_ALL: cannot change locale (en_US.UTF-8)\r\n",
      "Defaulting to user installation because normal site-packages is not writeable\r\n",
      "Requirement already satisfied: gym in /home/melot/.local/lib/python3.10/site-packages (0.26.2)\r\n",
      "Requirement already satisfied: gym-notices>=0.0.4 in /home/melot/.local/lib/python3.10/site-packages (from gym) (0.0.8)\r\n",
      "Requirement already satisfied: numpy>=1.18.0 in /home/melot/.local/lib/python3.10/site-packages (from gym) (1.26.2)\r\n",
      "Requirement already satisfied: cloudpickle>=1.2.0 in /home/melot/.local/lib/python3.10/site-packages (from gym) (3.0.0)\r\n",
      "/bin/bash: warning: setlocale: LC_ALL: cannot change locale (en_US.UTF-8)\r\n"
     ]
    }
   ],
   "source": [
    "!pip install python-dateutil\n",
    "!pip install pyyaml\n",
    "!pip install packaging\n",
    "!pip install ipython-genutils\n",
    "!pip install jinja2\n",
    "!pip install requests\n",
    "!pip install jinja2\n",
    "!pip install markupsafe\n",
    "!pip install requests\n",
    "!pip install moviepy\n",
    "!apt-get install swig\n",
    "!pip install box2d-py -q\n",
    "!pip install gym\n",
    "!pip install -q \"stable-baselines3[extra]\""
   ]
  },
  {
   "cell_type": "markdown",
   "metadata": {
    "id": "FtY8FhliLsGm"
   },
   "source": [
    "## Importações"
   ]
  },
  {
   "cell_type": "code",
   "execution_count": 2,
   "metadata": {
    "id": "BIedd7Pz9sOs",
    "colab": {
     "base_uri": "https://localhost:8080/"
    },
    "outputId": "98f248a4-a2ef-4ad2-8d0c-0723e3c065d7",
    "ExecuteTime": {
     "end_time": "2023-12-09T16:01:28.925943400Z",
     "start_time": "2023-12-09T16:01:26.534880300Z"
    }
   },
   "outputs": [],
   "source": [
    "import gym\n",
    "import numpy as np\n",
    "import base64\n",
    "import os\n",
    "from pathlib import Path\n",
    "from IPython import display as ipythondisplay\n",
    "from stable_baselines3 import PPO\n",
    "from stable_baselines3.common.evaluation import evaluate_policy\n",
    "from stable_baselines3.common.vec_env import VecVideoRecorder, DummyVecEnv"
   ]
  },
  {
   "cell_type": "markdown",
   "metadata": {
    "id": "fwxW3aH8wYnA"
   },
   "source": [
    "### Importando Algoritmo e Política"
   ]
  },
  {
   "cell_type": "markdown",
   "metadata": {
    "id": "9lPWlgrswYnA"
   },
   "source": [
    "#### Função Auxiliar"
   ]
  },
  {
   "cell_type": "code",
   "execution_count": 3,
   "metadata": {
    "id": "MVKtj5wbwYnB",
    "ExecuteTime": {
     "end_time": "2023-12-09T16:01:28.951699900Z",
     "start_time": "2023-12-09T16:01:28.946034900Z"
    }
   },
   "outputs": [],
   "source": [
    "def evaluate(model, num_episodes=10, deterministic=True, initial_state=0):\n",
    "    \"\"\"\n",
    "    Evaluate a RL agent\n",
    "    :param model: (BaseRLModel object) the RL Agent\n",
    "    :param num_episodes: (int) number of episodes to evaluate it\n",
    "    :return: (float) Mean reward for the last num_episodes\n",
    "    \"\"\"\n",
    "    vec_env = model.get_env()\n",
    "    all_episode_rewards = []\n",
    "    for i in range(num_episodes):\n",
    "        episode_rewards = []\n",
    "        done = False\n",
    "        obs = vec_env.reset()\n",
    "        while not done:\n",
    "            action, _states = model.predict(obs, deterministic=deterministic)\n",
    "            obs, reward, done, info = vec_env.step(action)\n",
    "            episode_rewards.append(reward)\n",
    "        all_episode_rewards.append(sum(episode_rewards))\n",
    "    mean_episode_reward = np.mean(all_episode_rewards)\n",
    "    print(\"Mean reward:\", mean_episode_reward, \"Num episodes:\", num_episodes)\n",
    "    return mean_episode_reward"
   ]
  },
  {
   "cell_type": "markdown",
   "metadata": {
    "id": "YTWrCEZOwYnB"
   },
   "source": [
    "### Criando Ambiente"
   ]
  },
  {
   "cell_type": "code",
   "execution_count": 4,
   "metadata": {
    "id": "rZ-GW4gSCNaU",
    "ExecuteTime": {
     "end_time": "2023-12-09T16:01:29.230601600Z",
     "start_time": "2023-12-09T16:01:28.952907300Z"
    }
   },
   "outputs": [
    {
     "name": "stderr",
     "output_type": "stream",
     "text": [
      "/home/melot/.local/lib/python3.10/site-packages/stable_baselines3/common/vec_env/patch_gym.py:49: UserWarning: You provided an OpenAI Gym environment. We strongly recommend transitioning to Gymnasium environments. Stable-Baselines3 is automatically wrapping your environments in a compatibility layer, which could potentially cause issues.\n",
      "  warnings.warn(\n"
     ]
    },
    {
     "data": {
      "text/plain": "Box(0, 255, (96, 96, 3), uint8)"
     },
     "metadata": {},
     "output_type": "display_data"
    },
    {
     "data": {
      "text/plain": "Discrete(5)"
     },
     "metadata": {},
     "output_type": "display_data"
    }
   ],
   "source": [
    "env = gym.make(\"CarRacing-v2\", continuous=False)\n",
    "env = DummyVecEnv([lambda: env])\n",
    "display(env.observation_space)\n",
    "display(env.action_space)"
   ]
  },
  {
   "cell_type": "markdown",
   "metadata": {
    "id": "zjEVOIY8NVeK"
   },
   "source": [
    "### Avaliando agente não treinado"
   ]
  },
  {
   "cell_type": "code",
   "execution_count": 5,
   "metadata": {
    "colab": {
     "base_uri": "https://localhost:8080/"
    },
    "id": "xDHLMA6NFk95",
    "outputId": "9f58e11f-3dfb-4a76-f610-79f436098b3f",
    "ExecuteTime": {
     "end_time": "2023-12-09T16:03:51.806381200Z",
     "start_time": "2023-12-09T16:01:29.202575800Z"
    }
   },
   "outputs": [
    {
     "name": "stderr",
     "output_type": "stream",
     "text": [
      "/home/melot/.local/lib/python3.10/site-packages/stable_baselines3/common/vec_env/patch_gym.py:49: UserWarning: You provided an OpenAI Gym environment. We strongly recommend transitioning to Gymnasium environments. Stable-Baselines3 is automatically wrapping your environments in a compatibility layer, which could potentially cause issues.\n",
      "  warnings.warn(\n",
      "/home/melot/.local/lib/python3.10/site-packages/stable_baselines3/common/evaluation.py:67: UserWarning: Evaluation environment is not wrapped with a ``Monitor`` wrapper. This may result in reporting modified episode lengths and rewards, if other wrappers happen to modify these. Consider wrapping environment first with ``Monitor`` wrapper.\n",
      "  warnings.warn(\n",
      "/home/melot/.local/lib/python3.10/site-packages/gym/utils/passive_env_checker.py:233: DeprecationWarning: `np.bool8` is a deprecated alias for `np.bool_`.  (Deprecated NumPy 1.24)\n",
      "  if not isinstance(terminated, (bool, np.bool8)):\n"
     ]
    },
    {
     "name": "stdout",
     "output_type": "stream",
     "text": [
      "mean_reward=-84.78 +/- 3.386792418068155\n"
     ]
    }
   ],
   "source": [
    "eval_env = gym.make(\"CarRacing-v2\", continuous=False)\n",
    "rl_model = PPO(\"CnnPolicy\", env)\n",
    "mean_reward, std_reward = evaluate_policy(\n",
    "    rl_model,\n",
    "    eval_env,\n",
    "    n_eval_episodes=10,\n",
    "    deterministic=True,\n",
    ")\n",
    "print(f\"mean_reward={mean_reward:.2f} +/- {std_reward}\")"
   ]
  },
  {
   "cell_type": "markdown",
   "metadata": {
    "id": "r5UoXTZPNdFE"
   },
   "source": [
    "## Treina o agente"
   ]
  },
  {
   "cell_type": "markdown",
   "metadata": {
    "id": "SWCcXpDewYnC"
   },
   "source": [
    "### Inicialização"
   ]
  },
  {
   "cell_type": "code",
   "execution_count": 6,
   "metadata": {
    "id": "Ns-wchZmwYnC",
    "ExecuteTime": {
     "end_time": "2023-12-09T16:03:51.866912500Z",
     "start_time": "2023-12-09T16:03:51.798189200Z"
    }
   },
   "outputs": [],
   "source": [
    "quantities = [2e4, 5e4, 1e5, 2e5, 4e5]\n",
    "qtd_teste = 10"
   ]
  },
  {
   "cell_type": "markdown",
   "metadata": {
    "id": "N0TA00niwYnC"
   },
   "source": [
    "### Execução"
   ]
  },
  {
   "cell_type": "code",
   "execution_count": null,
   "metadata": {
    "id": "e4cfSXIB-pTF",
    "is_executing": true,
    "ExecuteTime": {
     "start_time": "2023-12-09T16:03:51.814602400Z"
    }
   },
   "outputs": [
    {
     "name": "stdout",
     "output_type": "stream",
     "text": [
      "20000.0\n",
      "Mean reward: 1.4454018 Num episodes: 10\n",
      "\n",
      "50000.0\n",
      "Mean reward: 338.59998 Num episodes: 10\n",
      "\n",
      "100000.0\n",
      "Mean reward: 488.6187 Num episodes: 10\n",
      "\n",
      "200000.0\n",
      "Mean reward: 583.3642 Num episodes: 10\n",
      "\n",
      "400000.0\n"
     ]
    }
   ],
   "source": [
    "for quantity in quantities:\n",
    "    print(quantity)\n",
    "    rl_model = PPO(\"CnnPolicy\", env)\n",
    "    rl_model.learn(total_timesteps=quantity)\n",
    "    rl_model.save(f\"./{quantity}k_car_racing_PPO\")\n",
    "    evaluate(rl_model, num_episodes=qtd_teste, initial_state=quantity)\n",
    "    del rl_model\n",
    "    env.reset()\n",
    "    print()"
   ]
  },
  {
   "cell_type": "markdown",
   "metadata": {
    "id": "T31dZJYNrJwF"
   },
   "source": [
    "## Avalia o agente treinado"
   ]
  },
  {
   "cell_type": "markdown",
   "metadata": {
    "id": "vDVFVtbLwYnD"
   },
   "source": [
    "### Avaliação com visualização (jupyter notebook)"
   ]
  },
  {
   "cell_type": "code",
   "execution_count": null,
   "metadata": {
    "id": "ygl_gVmV_QP7",
    "is_executing": true
   },
   "outputs": [],
   "source": [
    "for quantity in quantities:\n",
    "    eval_env = gym.make(\"CarRacing-v2\", continuous=False, render_mode=\"human\")\n",
    "    eval_env = DummyVecEnv([lambda: eval_env])\n",
    "    rl_model = PPO.load(f\"./{quantity}k_car_racing_PPO\", eval_env)\n",
    "    mean_reward, std_reward = evaluate_policy(rl_model, eval_env, n_eval_episodes=1, render=True)\n",
    "    print(f\"{quantity}: mean_reward={mean_reward:.2f} +/- {std_reward}\")\n",
    "    eval_env.close()"
   ]
  },
  {
   "cell_type": "markdown",
   "metadata": {
    "id": "oIEqNGcuwYnD"
   },
   "source": [
    "#### Resultados"
   ]
  },
  {
   "cell_type": "markdown",
   "metadata": {
    "id": "xVm9QPNVwKXN"
   },
   "source": [
    "### Prepare video recording"
   ]
  },
  {
   "cell_type": "code",
   "execution_count": null,
   "metadata": {
    "id": "MPyfQxD5z26J",
    "is_executing": true
   },
   "outputs": [],
   "source": [
    "os.system(\"Xvfb :1 -screen 0 1024x768x24 &\")\n",
    "os.environ['DISPLAY'] = ':1'"
   ]
  },
  {
   "cell_type": "code",
   "execution_count": null,
   "metadata": {
    "id": "SLzXxO8VMD6N",
    "is_executing": true
   },
   "outputs": [],
   "source": [
    "def show_videos(video_path=\"\", prefix=\"\"):\n",
    "    html = []\n",
    "    for mp4 in Path(video_path).glob(\"{}*.mp4\".format(prefix)):\n",
    "        video_b64 = base64.b64encode(mp4.read_bytes())\n",
    "        html.append(\n",
    "            \"\"\"<video alt=\"{}\" autoplay\n",
    "                    loop controls style=\"height: 400px;\">\n",
    "                    <source src=\"data:video/mp4;base64,{}\" type=\"video/mp4\" />\n",
    "                </video>\"\"\".format(\n",
    "                mp4, video_b64.decode(\"ascii\")\n",
    "            )\n",
    "        )\n",
    "    ipythondisplay.display(ipythondisplay.HTML(data=\"<br>\".join(html)))"
   ]
  },
  {
   "cell_type": "markdown",
   "metadata": {
    "id": "LTRNUfulOGaF"
   },
   "source": [
    "We will record a video using the [VecVideoRecorder](https://stable-baselines.readthedocs.io/en/master/guide/vec_envs.html#vecvideorecorder) wrapper, you will learn about those wrapper in the next notebook."
   ]
  },
  {
   "cell_type": "code",
   "execution_count": null,
   "metadata": {
    "id": "Trag9dQpOIhx",
    "is_executing": true
   },
   "outputs": [],
   "source": [
    "def record_video(env_id, model, video_length=500, prefix=\"\", video_folder=\"videos/\"):\n",
    "    \"\"\"\n",
    "    :param env_id: (str)\n",
    "    :param model: (RL model)\n",
    "    :param video_length: (int)\n",
    "    :param prefix: (str)\n",
    "    :param video_folder: (str)\n",
    "    \"\"\"\n",
    "    eval_env = DummyVecEnv([lambda: gym.make(\"CarRacing-v2\", render_mode=\"rgb_array\", continuous=False)])\n",
    "    # Start the video at step=0 and record 500 steps\n",
    "    eval_env = VecVideoRecorder(\n",
    "        eval_env,\n",
    "        video_folder=video_folder,\n",
    "        record_video_trigger=lambda step: step == 0,\n",
    "        video_length=video_length,\n",
    "        name_prefix=prefix,\n",
    "    )\n",
    "    obs = eval_env.reset()\n",
    "    for _ in range(video_length):\n",
    "        action, _ = model.predict(obs)\n",
    "        obs, _, _, _ = eval_env.step(action)\n",
    "    eval_env.close()"
   ]
  },
  {
   "cell_type": "markdown",
   "source": [
    "### Inicializar modelo salvo e grava video"
   ],
   "metadata": {
    "id": "l9Zo3ZgS0LeY"
   }
  },
  {
   "cell_type": "code",
   "source": [
    "for quantity in quantities:\n",
    "    model = PPO.load(f\"{quantity}k_car_racing_PPO\", env)\n",
    "    record_video(f\"{quantity}k_car_racing_PPO\", model, video_length=600, prefix=f\"ppo-{quantity}k_car_racing_PPO\")"
   ],
   "metadata": {
    "id": "AqhlMS6z0K03",
    "is_executing": true
   },
   "execution_count": null,
   "outputs": []
  },
  {
   "cell_type": "code",
   "execution_count": null,
   "metadata": {
    "id": "-n4i-fW3NojZ",
    "is_executing": true
   },
   "outputs": [],
   "source": [
    "show_videos(video_path=\"videos\", prefix=\"ppo\")"
   ]
  }
 ],
 "metadata": {
  "accelerator": "GPU",
  "colab": {
   "provenance": [],
   "collapsed_sections": [
    "xVm9QPNVwKXN"
   ]
  },
  "kernelspec": {
   "display_name": "Python 3 (ipykernel)",
   "language": "python",
   "name": "python3"
  },
  "language_info": {
   "codemirror_mode": {
    "name": "ipython",
    "version": 3
   },
   "file_extension": ".py",
   "mimetype": "text/x-python",
   "name": "python",
   "nbconvert_exporter": "python",
   "pygments_lexer": "ipython3",
   "version": "3.10.9"
  },
  "vscode": {
   "interpreter": {
    "hash": "3201c96db5836b171d01fee72ea1be894646622d4b41771abf25c98b548a611d"
   }
  }
 },
 "nbformat": 4,
 "nbformat_minor": 0
}
